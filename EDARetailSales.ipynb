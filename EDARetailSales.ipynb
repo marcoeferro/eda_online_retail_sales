{
 "cells": [
  {
   "cell_type": "code",
   "execution_count": 2,
   "metadata": {},
   "outputs": [],
   "source": [
    "import pandas as pd \n",
    "import numpy as np \n",
    "from matplotlib import pyplot as plt\n",
    "import seaborn as sns\n",
    "import sqlite3"
   ]
  },
  {
   "cell_type": "code",
   "execution_count": 7,
   "metadata": {},
   "outputs": [],
   "source": [
    "conection = sqlite3.connect(\"amazon_sales.db\")\n",
    "df = pd.read_sql_query(\"\"\"\n",
    "                        SELECT *\n",
    "                        FROM products\n",
    "                        JOIN (\n",
    "                            SELECT reviews.review_title,reviews.review_content, users.user_name,reviews.id_product\n",
    "                            FROM reviews\n",
    "                            JOIN users ON reviews.id_user = users.id\n",
    "                        ) AS reviews_users ON products.id = reviews_users.id_product; \n",
    "                        \"\"\",conection)"
   ]
  },
  {
   "cell_type": "code",
   "execution_count": 8,
   "metadata": {},
   "outputs": [
    {
     "data": {
      "text/html": [
       "<div>\n",
       "<style scoped>\n",
       "    .dataframe tbody tr th:only-of-type {\n",
       "        vertical-align: middle;\n",
       "    }\n",
       "\n",
       "    .dataframe tbody tr th {\n",
       "        vertical-align: top;\n",
       "    }\n",
       "\n",
       "    .dataframe thead th {\n",
       "        text-align: right;\n",
       "    }\n",
       "</style>\n",
       "<table border=\"1\" class=\"dataframe\">\n",
       "  <thead>\n",
       "    <tr style=\"text-align: right;\">\n",
       "      <th></th>\n",
       "      <th>id</th>\n",
       "      <th>product_name</th>\n",
       "      <th>category_1</th>\n",
       "      <th>category_2</th>\n",
       "      <th>category_3</th>\n",
       "      <th>category_4</th>\n",
       "      <th>category_5</th>\n",
       "      <th>discounted_price</th>\n",
       "      <th>actual_price</th>\n",
       "      <th>discount_percentage</th>\n",
       "      <th>rating</th>\n",
       "      <th>rating_count</th>\n",
       "      <th>about_product</th>\n",
       "      <th>img_link</th>\n",
       "      <th>product_link</th>\n",
       "      <th>review_title</th>\n",
       "      <th>review_content</th>\n",
       "      <th>user_name</th>\n",
       "      <th>id_product</th>\n",
       "    </tr>\n",
       "  </thead>\n",
       "  <tbody>\n",
       "    <tr>\n",
       "      <th>0</th>\n",
       "      <td>B07JW9H4J1</td>\n",
       "      <td>Wayona Nylon Braided USB to Lightning Fast Cha...</td>\n",
       "      <td>Computers&amp;Accessories</td>\n",
       "      <td>Accessories&amp;Peripherals</td>\n",
       "      <td>Cables&amp;Accessories</td>\n",
       "      <td>Cables</td>\n",
       "      <td>USBCables</td>\n",
       "      <td>399.0</td>\n",
       "      <td>1099.0</td>\n",
       "      <td>0.64</td>\n",
       "      <td>4.2</td>\n",
       "      <td>24269</td>\n",
       "      <td>High Compatibility : Compatible With iPhone 12...</td>\n",
       "      <td>https://m.media-amazon.com/images/W/WEBP_40237...</td>\n",
       "      <td>https://www.amazon.in/Wayona-Braided-WN3LG1-Sy...</td>\n",
       "      <td>Satisfied</td>\n",
       "      <td>Looks durable Charging is fine tooNo complains</td>\n",
       "      <td>Manav</td>\n",
       "      <td>B07JW9H4J1</td>\n",
       "    </tr>\n",
       "    <tr>\n",
       "      <th>1</th>\n",
       "      <td>B07JW9H4J1</td>\n",
       "      <td>Wayona Nylon Braided USB to Lightning Fast Cha...</td>\n",
       "      <td>Computers&amp;Accessories</td>\n",
       "      <td>Accessories&amp;Peripherals</td>\n",
       "      <td>Cables&amp;Accessories</td>\n",
       "      <td>Cables</td>\n",
       "      <td>USBCables</td>\n",
       "      <td>399.0</td>\n",
       "      <td>1099.0</td>\n",
       "      <td>0.64</td>\n",
       "      <td>4.2</td>\n",
       "      <td>24269</td>\n",
       "      <td>High Compatibility : Compatible With iPhone 12...</td>\n",
       "      <td>https://m.media-amazon.com/images/W/WEBP_40237...</td>\n",
       "      <td>https://www.amazon.in/Wayona-Braided-WN3LG1-Sy...</td>\n",
       "      <td>Charging is really fast</td>\n",
       "      <td>Charging is really fast</td>\n",
       "      <td>Adarsh gupta</td>\n",
       "      <td>B07JW9H4J1</td>\n",
       "    </tr>\n",
       "    <tr>\n",
       "      <th>2</th>\n",
       "      <td>B07JW9H4J1</td>\n",
       "      <td>Wayona Nylon Braided USB to Lightning Fast Cha...</td>\n",
       "      <td>Computers&amp;Accessories</td>\n",
       "      <td>Accessories&amp;Peripherals</td>\n",
       "      <td>Cables&amp;Accessories</td>\n",
       "      <td>Cables</td>\n",
       "      <td>USBCables</td>\n",
       "      <td>399.0</td>\n",
       "      <td>1099.0</td>\n",
       "      <td>0.64</td>\n",
       "      <td>4.2</td>\n",
       "      <td>24269</td>\n",
       "      <td>High Compatibility : Compatible With iPhone 12...</td>\n",
       "      <td>https://m.media-amazon.com/images/W/WEBP_40237...</td>\n",
       "      <td>https://www.amazon.in/Wayona-Braided-WN3LG1-Sy...</td>\n",
       "      <td>Value for money</td>\n",
       "      <td>good product.</td>\n",
       "      <td>Sundeep</td>\n",
       "      <td>B07JW9H4J1</td>\n",
       "    </tr>\n",
       "    <tr>\n",
       "      <th>3</th>\n",
       "      <td>B07JW9H4J1</td>\n",
       "      <td>Wayona Nylon Braided USB to Lightning Fast Cha...</td>\n",
       "      <td>Computers&amp;Accessories</td>\n",
       "      <td>Accessories&amp;Peripherals</td>\n",
       "      <td>Cables&amp;Accessories</td>\n",
       "      <td>Cables</td>\n",
       "      <td>USBCables</td>\n",
       "      <td>399.0</td>\n",
       "      <td>1099.0</td>\n",
       "      <td>0.64</td>\n",
       "      <td>4.2</td>\n",
       "      <td>24269</td>\n",
       "      <td>High Compatibility : Compatible With iPhone 12...</td>\n",
       "      <td>https://m.media-amazon.com/images/W/WEBP_40237...</td>\n",
       "      <td>https://www.amazon.in/Wayona-Braided-WN3LG1-Sy...</td>\n",
       "      <td>Product review</td>\n",
       "      <td>Till now satisfied with the quality.</td>\n",
       "      <td>S.Sayeed Ahmed</td>\n",
       "      <td>B07JW9H4J1</td>\n",
       "    </tr>\n",
       "    <tr>\n",
       "      <th>4</th>\n",
       "      <td>B07JW9H4J1</td>\n",
       "      <td>Wayona Nylon Braided USB to Lightning Fast Cha...</td>\n",
       "      <td>Computers&amp;Accessories</td>\n",
       "      <td>Accessories&amp;Peripherals</td>\n",
       "      <td>Cables&amp;Accessories</td>\n",
       "      <td>Cables</td>\n",
       "      <td>USBCables</td>\n",
       "      <td>399.0</td>\n",
       "      <td>1099.0</td>\n",
       "      <td>0.64</td>\n",
       "      <td>4.2</td>\n",
       "      <td>24269</td>\n",
       "      <td>High Compatibility : Compatible With iPhone 12...</td>\n",
       "      <td>https://m.media-amazon.com/images/W/WEBP_40237...</td>\n",
       "      <td>https://www.amazon.in/Wayona-Braided-WN3LG1-Sy...</td>\n",
       "      <td>Good quality</td>\n",
       "      <td>This is a good product . The charging speed is...</td>\n",
       "      <td>jaspreet singh</td>\n",
       "      <td>B07JW9H4J1</td>\n",
       "    </tr>\n",
       "  </tbody>\n",
       "</table>\n",
       "</div>"
      ],
      "text/plain": [
       "           id                                       product_name  \\\n",
       "0  B07JW9H4J1  Wayona Nylon Braided USB to Lightning Fast Cha...   \n",
       "1  B07JW9H4J1  Wayona Nylon Braided USB to Lightning Fast Cha...   \n",
       "2  B07JW9H4J1  Wayona Nylon Braided USB to Lightning Fast Cha...   \n",
       "3  B07JW9H4J1  Wayona Nylon Braided USB to Lightning Fast Cha...   \n",
       "4  B07JW9H4J1  Wayona Nylon Braided USB to Lightning Fast Cha...   \n",
       "\n",
       "              category_1               category_2          category_3  \\\n",
       "0  Computers&Accessories  Accessories&Peripherals  Cables&Accessories   \n",
       "1  Computers&Accessories  Accessories&Peripherals  Cables&Accessories   \n",
       "2  Computers&Accessories  Accessories&Peripherals  Cables&Accessories   \n",
       "3  Computers&Accessories  Accessories&Peripherals  Cables&Accessories   \n",
       "4  Computers&Accessories  Accessories&Peripherals  Cables&Accessories   \n",
       "\n",
       "  category_4 category_5  discounted_price  actual_price  discount_percentage  \\\n",
       "0     Cables  USBCables             399.0        1099.0                 0.64   \n",
       "1     Cables  USBCables             399.0        1099.0                 0.64   \n",
       "2     Cables  USBCables             399.0        1099.0                 0.64   \n",
       "3     Cables  USBCables             399.0        1099.0                 0.64   \n",
       "4     Cables  USBCables             399.0        1099.0                 0.64   \n",
       "\n",
       "   rating  rating_count                                      about_product  \\\n",
       "0     4.2         24269  High Compatibility : Compatible With iPhone 12...   \n",
       "1     4.2         24269  High Compatibility : Compatible With iPhone 12...   \n",
       "2     4.2         24269  High Compatibility : Compatible With iPhone 12...   \n",
       "3     4.2         24269  High Compatibility : Compatible With iPhone 12...   \n",
       "4     4.2         24269  High Compatibility : Compatible With iPhone 12...   \n",
       "\n",
       "                                            img_link  \\\n",
       "0  https://m.media-amazon.com/images/W/WEBP_40237...   \n",
       "1  https://m.media-amazon.com/images/W/WEBP_40237...   \n",
       "2  https://m.media-amazon.com/images/W/WEBP_40237...   \n",
       "3  https://m.media-amazon.com/images/W/WEBP_40237...   \n",
       "4  https://m.media-amazon.com/images/W/WEBP_40237...   \n",
       "\n",
       "                                        product_link             review_title  \\\n",
       "0  https://www.amazon.in/Wayona-Braided-WN3LG1-Sy...                Satisfied   \n",
       "1  https://www.amazon.in/Wayona-Braided-WN3LG1-Sy...  Charging is really fast   \n",
       "2  https://www.amazon.in/Wayona-Braided-WN3LG1-Sy...          Value for money   \n",
       "3  https://www.amazon.in/Wayona-Braided-WN3LG1-Sy...           Product review   \n",
       "4  https://www.amazon.in/Wayona-Braided-WN3LG1-Sy...             Good quality   \n",
       "\n",
       "                                      review_content       user_name  \\\n",
       "0     Looks durable Charging is fine tooNo complains           Manav   \n",
       "1                            Charging is really fast    Adarsh gupta   \n",
       "2                                      good product.         Sundeep   \n",
       "3               Till now satisfied with the quality.  S.Sayeed Ahmed   \n",
       "4  This is a good product . The charging speed is...  jaspreet singh   \n",
       "\n",
       "   id_product  \n",
       "0  B07JW9H4J1  \n",
       "1  B07JW9H4J1  \n",
       "2  B07JW9H4J1  \n",
       "3  B07JW9H4J1  \n",
       "4  B07JW9H4J1  "
      ]
     },
     "execution_count": 8,
     "metadata": {},
     "output_type": "execute_result"
    }
   ],
   "source": [
    "df.head()"
   ]
  },
  {
   "cell_type": "code",
   "execution_count": 13,
   "metadata": {},
   "outputs": [
    {
     "data": {
      "text/plain": [
       "(2590, 19)"
      ]
     },
     "execution_count": 13,
     "metadata": {},
     "output_type": "execute_result"
    }
   ],
   "source": [
    "df.shape"
   ]
  },
  {
   "cell_type": "code",
   "execution_count": 10,
   "metadata": {},
   "outputs": [],
   "source": [
    "numeric_df = df[[\"discounted_price\",\t\"actual_price\",\t\"discount_percentage\",\t\"rating\",\t\"rating_count\"]]"
   ]
  },
  {
   "cell_type": "code",
   "execution_count": 11,
   "metadata": {},
   "outputs": [
    {
     "name": "stdout",
     "output_type": "stream",
     "text": [
      "<class 'pandas.core.frame.DataFrame'>\n",
      "RangeIndex: 2590 entries, 0 to 2589\n",
      "Data columns (total 5 columns):\n",
      " #   Column               Non-Null Count  Dtype  \n",
      "---  ------               --------------  -----  \n",
      " 0   discounted_price     2590 non-null   float64\n",
      " 1   actual_price         2590 non-null   float64\n",
      " 2   discount_percentage  2590 non-null   float64\n",
      " 3   rating               2590 non-null   float64\n",
      " 4   rating_count         2590 non-null   int64  \n",
      "dtypes: float64(4), int64(1)\n",
      "memory usage: 101.3 KB\n"
     ]
    }
   ],
   "source": [
    "numeric_df.info()"
   ]
  },
  {
   "cell_type": "markdown",
   "metadata": {},
   "source": [
    "# Handeling Missing Values"
   ]
  },
  {
   "cell_type": "code",
   "execution_count": 12,
   "metadata": {},
   "outputs": [
    {
     "data": {
      "text/plain": [
       "id                     0\n",
       "product_name           0\n",
       "category_1             0\n",
       "category_2             0\n",
       "category_3             0\n",
       "category_4             0\n",
       "category_5             0\n",
       "discounted_price       0\n",
       "actual_price           0\n",
       "discount_percentage    0\n",
       "rating                 0\n",
       "rating_count           0\n",
       "about_product          0\n",
       "img_link               0\n",
       "product_link           0\n",
       "review_title           0\n",
       "review_content         0\n",
       "user_name              0\n",
       "id_product             0\n",
       "dtype: int64"
      ]
     },
     "execution_count": 12,
     "metadata": {},
     "output_type": "execute_result"
    }
   ],
   "source": [
    "df.isna().sum()"
   ]
  },
  {
   "cell_type": "markdown",
   "metadata": {},
   "source": [
    "# Handeling Duplicates"
   ]
  },
  {
   "cell_type": "code",
   "execution_count": 18,
   "metadata": {},
   "outputs": [
    {
     "data": {
      "text/html": [
       "<div>\n",
       "<style scoped>\n",
       "    .dataframe tbody tr th:only-of-type {\n",
       "        vertical-align: middle;\n",
       "    }\n",
       "\n",
       "    .dataframe tbody tr th {\n",
       "        vertical-align: top;\n",
       "    }\n",
       "\n",
       "    .dataframe thead th {\n",
       "        text-align: right;\n",
       "    }\n",
       "</style>\n",
       "<table border=\"1\" class=\"dataframe\">\n",
       "  <thead>\n",
       "    <tr style=\"text-align: right;\">\n",
       "      <th></th>\n",
       "      <th>id</th>\n",
       "      <th>product_name</th>\n",
       "      <th>category_1</th>\n",
       "      <th>category_2</th>\n",
       "      <th>category_3</th>\n",
       "      <th>category_4</th>\n",
       "      <th>category_5</th>\n",
       "      <th>discounted_price</th>\n",
       "      <th>actual_price</th>\n",
       "      <th>discount_percentage</th>\n",
       "      <th>rating</th>\n",
       "      <th>rating_count</th>\n",
       "      <th>about_product</th>\n",
       "      <th>img_link</th>\n",
       "      <th>product_link</th>\n",
       "      <th>review_title</th>\n",
       "      <th>review_content</th>\n",
       "      <th>user_name</th>\n",
       "      <th>id_product</th>\n",
       "    </tr>\n",
       "  </thead>\n",
       "  <tbody>\n",
       "  </tbody>\n",
       "</table>\n",
       "</div>"
      ],
      "text/plain": [
       "Empty DataFrame\n",
       "Columns: [id, product_name, category_1, category_2, category_3, category_4, category_5, discounted_price, actual_price, discount_percentage, rating, rating_count, about_product, img_link, product_link, review_title, review_content, user_name, id_product]\n",
       "Index: []"
      ]
     },
     "execution_count": 18,
     "metadata": {},
     "output_type": "execute_result"
    }
   ],
   "source": [
    "df[df.duplicated()]"
   ]
  },
  {
   "cell_type": "markdown",
   "metadata": {},
   "source": [
    "# Preguntas Frecuentes \n",
    "\n",
    "1. ¿Cuáles son los productos más vendidos?\n",
    "2. ¿Existen patrones estacionales en las ventas?\n",
    "3. ¿Qué canales de marketing son más efectivos?\n",
    "4. ¿Cuál es el valor promedio de un pedido?\n",
    "5. ¿Qué segmentos de clientes son más rentables?"
   ]
  },
  {
   "cell_type": "code",
   "execution_count": null,
   "metadata": {},
   "outputs": [],
   "source": [
    "#asdfs"
   ]
  }
 ],
 "metadata": {
  "kernelspec": {
   "display_name": "Python 3",
   "language": "python",
   "name": "python3"
  },
  "language_info": {
   "codemirror_mode": {
    "name": "ipython",
    "version": 3
   },
   "file_extension": ".py",
   "mimetype": "text/x-python",
   "name": "python",
   "nbconvert_exporter": "python",
   "pygments_lexer": "ipython3",
   "version": "3.12.6"
  }
 },
 "nbformat": 4,
 "nbformat_minor": 2
}
